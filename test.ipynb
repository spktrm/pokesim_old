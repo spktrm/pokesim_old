{
 "cells": [
  {
   "cell_type": "code",
   "execution_count": 1,
   "metadata": {},
   "outputs": [],
   "source": [
    "import requests"
   ]
  },
  {
   "cell_type": "code",
   "execution_count": 2,
   "metadata": {},
   "outputs": [
    {
     "data": {
      "text/plain": [
       "['https://raw.githubusercontent.com/pkmn/ps/main/client/src/battle.ts',\n",
       " 'https://raw.githubusercontent.com/pkmn/ps/main/client/src/field.ts',\n",
       " 'https://raw.githubusercontent.com/pkmn/ps/main/client/src/handler.ts',\n",
       " 'https://raw.githubusercontent.com/pkmn/ps/main/client/src/index.ts',\n",
       " 'https://raw.githubusercontent.com/pkmn/ps/main/client/src/pokemon.ts',\n",
       " 'https://raw.githubusercontent.com/pkmn/ps/main/client/src/side.ts']"
      ]
     },
     "execution_count": 2,
     "metadata": {},
     "output_type": "execute_result"
    }
   ],
   "source": [
    "BASE_URL = \"https://raw.githubusercontent.com/pkmn/ps/main/client/src/{}.ts\"\n",
    "\n",
    "URLS = [\n",
    "    BASE_URL.format(fname)\n",
    "    for fname in [\"battle\", \"field\", \"handler\", \"index\", \"pokemon\", \"side\"]\n",
    "]\n",
    "URLS"
   ]
  },
  {
   "cell_type": "code",
   "execution_count": 2,
   "metadata": {},
   "outputs": [
    {
     "name": "stderr",
     "output_type": "stream",
     "text": [
      "100%|██████████| 42/42 [00:03<00:00, 11.74it/s]\n"
     ]
    }
   ],
   "source": [
    "import re\n",
    "import json\n",
    "import requests\n",
    "\n",
    "from concurrent.futures import ThreadPoolExecutor\n",
    "from tqdm import tqdm\n",
    "from typing import Sequence\n",
    "\n",
    "BASE_URL = \"https://raw.githubusercontent.com/pkmn/ps/main/sim/{}.ts\"\n",
    "\n",
    "URLS = [\n",
    "    BASE_URL.format(fname)\n",
    "    for fname in [\n",
    "        \"sim/battle-actions\",\n",
    "        \"sim/battle-queue\",\n",
    "        \"sim/battle-stream\",\n",
    "        \"sim/battle\",\n",
    "        \"sim/dex-abilities\",\n",
    "        \"sim/dex-conditions\",\n",
    "        \"sim/dex-data\",\n",
    "        \"sim/dex-formats\",\n",
    "        \"sim/dex-items\",\n",
    "        \"sim/dex-moves\",\n",
    "        \"sim/dex-species\",\n",
    "        \"sim/dex\",\n",
    "        \"sim/exported-global-types\",\n",
    "        \"sim/field\",\n",
    "        \"sim/global-types\",\n",
    "        \"sim/global-variables.d\",\n",
    "        \"sim/index\",\n",
    "        \"sim/pokemon\",\n",
    "        \"sim/prng\",\n",
    "        \"sim/side\",\n",
    "        \"sim/state\",\n",
    "        \"sim/team-validator.\",\n",
    "        \"sim/teams\",\n",
    "        \"lib/index\",\n",
    "        \"lib/streams\",\n",
    "        \"lib/utils\",\n",
    "        \"data/abilities\",\n",
    "        \"data/aliases\",\n",
    "        \"data/conditions\",\n",
    "        \"data/formats-data\",\n",
    "        \"data/index\",\n",
    "        \"data/items\",\n",
    "        \"data/learnsets\",\n",
    "        \"data/legality\",\n",
    "        \"data/moves\",\n",
    "        \"data/natures\",\n",
    "        \"data/pokedex\",\n",
    "        \"data/pokemongo\",\n",
    "        \"data/rulesets\",\n",
    "        \"data/scripts\",\n",
    "        \"data/tags\",\n",
    "        \"data/typechart\",\n",
    "    ]\n",
    "]\n",
    "\n",
    "src = \"\"\n",
    "\n",
    "\n",
    "def fetch_url(url):\n",
    "    req = requests.get(url)\n",
    "    if req.ok:\n",
    "        return req.content.decode(\"utf-8\")\n",
    "    return \"\"\n",
    "\n",
    "\n",
    "with ThreadPoolExecutor() as executor:\n",
    "    for content in tqdm(executor.map(fetch_url, URLS), total=len(URLS)):\n",
    "        src += content\n",
    "\n",
    "\n",
    "def to_id(string: str) -> str:\n",
    "    return \"\".join(char for char in string.lower() if char.isalnum())\n",
    "\n",
    "\n",
    "def reduce(arr: Sequence) -> Sequence:\n",
    "    return list(\n",
    "        filter(\n",
    "            lambda x: x,\n",
    "            list(sorted(set(map(to_id, arr)))),\n",
    "        )\n",
    "    )\n",
    "\n",
    "\n",
    "volatile_status = set()\n",
    "volatile_status.update(re.findall(r\"removeVolatile\\([\\\"|\\'](.*?)[\\\"|\\']\\)\", src))\n",
    "volatile_status.update(re.findall(r\"hasVolatile\\([\\\"|\\'](.*?)[\\\"|\\']\\)\", src))\n",
    "volatile_status.update(re.findall(r\"volatiles\\[[\\\"|\\'](.*?)[\\\"|\\']\\]\", src))\n",
    "volatile_status.update(re.findall(r\"volatiles\\.(.*?)[\\[|\\)| ]\", src))\n",
    "volatile_status.update(re.findall(r\"volatileStatus:\\s*[\\\"|\\'](.*)[\\\"|\\'],\", src))\n",
    "volatile_status = reduce(volatile_status)\n",
    "\n",
    "weathers = re.findall(r\"[\\\"|\\']-weather[\\\"|\\'],\\s*[\\\"|\\'](.*)[\\\"|\\'],\", src)\n",
    "weathers = reduce(weathers)\n",
    "\n",
    "side_conditions = re.findall(r\"sideCondition:\\s*[\\\"|\\'](.*)[\\\"|\\'],\", src)\n",
    "side_conditions = reduce(side_conditions)\n",
    "\n",
    "terrain = re.findall(r\"terrain:\\s*[\\\"|\\'](.*)[\\\"|\\'],\", src)\n",
    "terrain = reduce(terrain)\n",
    "\n",
    "pseudoweather = re.findall(r\"pseudoWeather\\:\\s[\\\"|\\'](.*?)[\\\"|\\']\", src)\n",
    "pseudoweather = reduce(pseudoweather)\n",
    "\n",
    "data = {\n",
    "    \"pseudoWeather\": pseudoweather,\n",
    "    \"volatileStatus\": volatile_status,\n",
    "    \"weathers\": weathers,\n",
    "    \"terrain\": terrain,\n",
    "    \"sideConditions\": side_conditions,\n",
    "}\n",
    "\n",
    "with open(\"src/data.json\", \"w\") as f:\n",
    "    json.dump(data, f)"
   ]
  }
 ],
 "metadata": {
  "kernelspec": {
   "display_name": "env",
   "language": "python",
   "name": "python3"
  },
  "language_info": {
   "codemirror_mode": {
    "name": "ipython",
    "version": 3
   },
   "file_extension": ".py",
   "mimetype": "text/x-python",
   "name": "python",
   "nbconvert_exporter": "python",
   "pygments_lexer": "ipython3",
   "version": "3.10.12"
  },
  "orig_nbformat": 4
 },
 "nbformat": 4,
 "nbformat_minor": 2
}
